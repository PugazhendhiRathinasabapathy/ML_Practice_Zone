{
 "cells": [
  {
   "cell_type": "code",
   "execution_count": 2,
   "id": "cb24c058",
   "metadata": {},
   "outputs": [],
   "source": [
    "import numpy as np\n",
    "import pandas as pd"
   ]
  },
  {
   "cell_type": "code",
   "execution_count": 3,
   "id": "a10d8d97",
   "metadata": {},
   "outputs": [],
   "source": [
    "df = pd.read_csv(\"SugarData.csv\")"
   ]
  },
  {
   "cell_type": "code",
   "execution_count": 4,
   "id": "21edfce8",
   "metadata": {},
   "outputs": [
    {
     "data": {
      "text/plain": [
       "pandas.core.frame.DataFrame"
      ]
     },
     "execution_count": 4,
     "metadata": {},
     "output_type": "execute_result"
    }
   ],
   "source": [
    "type(df)"
   ]
  },
  {
   "cell_type": "code",
   "execution_count": 11,
   "id": "d2611df0",
   "metadata": {},
   "outputs": [
    {
     "data": {
      "text/html": [
       "<div>\n",
       "<style scoped>\n",
       "    .dataframe tbody tr th:only-of-type {\n",
       "        vertical-align: middle;\n",
       "    }\n",
       "\n",
       "    .dataframe tbody tr th {\n",
       "        vertical-align: top;\n",
       "    }\n",
       "\n",
       "    .dataframe thead th {\n",
       "        text-align: right;\n",
       "    }\n",
       "</style>\n",
       "<table border=\"1\" class=\"dataframe\">\n",
       "  <thead>\n",
       "    <tr style=\"text-align: right;\">\n",
       "      <th></th>\n",
       "      <th>STATE</th>\n",
       "      <th>Sugar_yield_acres</th>\n",
       "      <th>Crop_Year</th>\n",
       "      <th>Average_Temp</th>\n",
       "      <th>Average_Precip</th>\n",
       "    </tr>\n",
       "  </thead>\n",
       "  <tbody>\n",
       "    <tr>\n",
       "      <th>0</th>\n",
       "      <td>Florida</td>\n",
       "      <td>3.50</td>\n",
       "      <td>1980</td>\n",
       "      <td>74.80</td>\n",
       "      <td>4.78</td>\n",
       "    </tr>\n",
       "    <tr>\n",
       "      <th>1</th>\n",
       "      <td>Florida</td>\n",
       "      <td>3.89</td>\n",
       "      <td>1981</td>\n",
       "      <td>76.90</td>\n",
       "      <td>2.85</td>\n",
       "    </tr>\n",
       "    <tr>\n",
       "      <th>2</th>\n",
       "      <td>Florida</td>\n",
       "      <td>3.71</td>\n",
       "      <td>1982</td>\n",
       "      <td>75.07</td>\n",
       "      <td>6.87</td>\n",
       "    </tr>\n",
       "    <tr>\n",
       "      <th>3</th>\n",
       "      <td>Florida</td>\n",
       "      <td>3.39</td>\n",
       "      <td>1983</td>\n",
       "      <td>73.13</td>\n",
       "      <td>5.27</td>\n",
       "    </tr>\n",
       "    <tr>\n",
       "      <th>4</th>\n",
       "      <td>Florida</td>\n",
       "      <td>3.80</td>\n",
       "      <td>1984</td>\n",
       "      <td>73.93</td>\n",
       "      <td>4.77</td>\n",
       "    </tr>\n",
       "    <tr>\n",
       "      <th>5</th>\n",
       "      <td>Florida</td>\n",
       "      <td>3.69</td>\n",
       "      <td>1985</td>\n",
       "      <td>75.50</td>\n",
       "      <td>4.12</td>\n",
       "    </tr>\n",
       "    <tr>\n",
       "      <th>6</th>\n",
       "      <td>Florida</td>\n",
       "      <td>3.78</td>\n",
       "      <td>1986</td>\n",
       "      <td>74.47</td>\n",
       "      <td>3.49</td>\n",
       "    </tr>\n",
       "    <tr>\n",
       "      <th>7</th>\n",
       "      <td>Florida</td>\n",
       "      <td>3.77</td>\n",
       "      <td>1987</td>\n",
       "      <td>73.77</td>\n",
       "      <td>3.43</td>\n",
       "    </tr>\n",
       "    <tr>\n",
       "      <th>8</th>\n",
       "      <td>Florida</td>\n",
       "      <td>3.88</td>\n",
       "      <td>1988</td>\n",
       "      <td>73.97</td>\n",
       "      <td>3.01</td>\n",
       "    </tr>\n",
       "    <tr>\n",
       "      <th>9</th>\n",
       "      <td>Florida</td>\n",
       "      <td>3.30</td>\n",
       "      <td>1989</td>\n",
       "      <td>75.07</td>\n",
       "      <td>5.00</td>\n",
       "    </tr>\n",
       "  </tbody>\n",
       "</table>\n",
       "</div>"
      ],
      "text/plain": [
       "     STATE  Sugar_yield_acres  Crop_Year  Average_Temp  Average_Precip\n",
       "0  Florida               3.50       1980         74.80            4.78\n",
       "1  Florida               3.89       1981         76.90            2.85\n",
       "2  Florida               3.71       1982         75.07            6.87\n",
       "3  Florida               3.39       1983         73.13            5.27\n",
       "4  Florida               3.80       1984         73.93            4.77\n",
       "5  Florida               3.69       1985         75.50            4.12\n",
       "6  Florida               3.78       1986         74.47            3.49\n",
       "7  Florida               3.77       1987         73.77            3.43\n",
       "8  Florida               3.88       1988         73.97            3.01\n",
       "9  Florida               3.30       1989         75.07            5.00"
      ]
     },
     "execution_count": 11,
     "metadata": {},
     "output_type": "execute_result"
    }
   ],
   "source": [
    "df.head(10)"
   ]
  },
  {
   "cell_type": "code",
   "execution_count": 6,
   "id": "9211fa50",
   "metadata": {},
   "outputs": [
    {
     "data": {
      "text/plain": [
       "(52, 5)"
      ]
     },
     "execution_count": 6,
     "metadata": {},
     "output_type": "execute_result"
    }
   ],
   "source": [
    "df.shape"
   ]
  },
  {
   "cell_type": "code",
   "execution_count": 8,
   "id": "a513d7e6",
   "metadata": {},
   "outputs": [
    {
     "data": {
      "text/html": [
       "<div>\n",
       "<style scoped>\n",
       "    .dataframe tbody tr th:only-of-type {\n",
       "        vertical-align: middle;\n",
       "    }\n",
       "\n",
       "    .dataframe tbody tr th {\n",
       "        vertical-align: top;\n",
       "    }\n",
       "\n",
       "    .dataframe thead th {\n",
       "        text-align: right;\n",
       "    }\n",
       "</style>\n",
       "<table border=\"1\" class=\"dataframe\">\n",
       "  <thead>\n",
       "    <tr style=\"text-align: right;\">\n",
       "      <th></th>\n",
       "      <th>Sugar_yield_acres</th>\n",
       "      <th>Crop_Year</th>\n",
       "      <th>Average_Temp</th>\n",
       "      <th>Average_Precip</th>\n",
       "    </tr>\n",
       "  </thead>\n",
       "  <tbody>\n",
       "    <tr>\n",
       "      <th>count</th>\n",
       "      <td>52.000000</td>\n",
       "      <td>52.000000</td>\n",
       "      <td>52.000000</td>\n",
       "      <td>52.000000</td>\n",
       "    </tr>\n",
       "    <tr>\n",
       "      <th>mean</th>\n",
       "      <td>3.477500</td>\n",
       "      <td>1992.500000</td>\n",
       "      <td>74.155192</td>\n",
       "      <td>4.913654</td>\n",
       "    </tr>\n",
       "    <tr>\n",
       "      <th>std</th>\n",
       "      <td>0.824673</td>\n",
       "      <td>7.573172</td>\n",
       "      <td>1.491463</td>\n",
       "      <td>1.479734</td>\n",
       "    </tr>\n",
       "    <tr>\n",
       "      <th>min</th>\n",
       "      <td>2.020000</td>\n",
       "      <td>1980.000000</td>\n",
       "      <td>70.100000</td>\n",
       "      <td>1.780000</td>\n",
       "    </tr>\n",
       "    <tr>\n",
       "      <th>25%</th>\n",
       "      <td>2.867500</td>\n",
       "      <td>1986.000000</td>\n",
       "      <td>73.252500</td>\n",
       "      <td>3.905000</td>\n",
       "    </tr>\n",
       "    <tr>\n",
       "      <th>50%</th>\n",
       "      <td>3.440000</td>\n",
       "      <td>1992.500000</td>\n",
       "      <td>74.065000</td>\n",
       "      <td>4.870000</td>\n",
       "    </tr>\n",
       "    <tr>\n",
       "      <th>75%</th>\n",
       "      <td>4.015000</td>\n",
       "      <td>1999.000000</td>\n",
       "      <td>75.070000</td>\n",
       "      <td>5.672500</td>\n",
       "    </tr>\n",
       "    <tr>\n",
       "      <th>max</th>\n",
       "      <td>5.520000</td>\n",
       "      <td>2005.000000</td>\n",
       "      <td>77.000000</td>\n",
       "      <td>8.220000</td>\n",
       "    </tr>\n",
       "  </tbody>\n",
       "</table>\n",
       "</div>"
      ],
      "text/plain": [
       "       Sugar_yield_acres    Crop_Year  Average_Temp  Average_Precip\n",
       "count          52.000000    52.000000     52.000000       52.000000\n",
       "mean            3.477500  1992.500000     74.155192        4.913654\n",
       "std             0.824673     7.573172      1.491463        1.479734\n",
       "min             2.020000  1980.000000     70.100000        1.780000\n",
       "25%             2.867500  1986.000000     73.252500        3.905000\n",
       "50%             3.440000  1992.500000     74.065000        4.870000\n",
       "75%             4.015000  1999.000000     75.070000        5.672500\n",
       "max             5.520000  2005.000000     77.000000        8.220000"
      ]
     },
     "execution_count": 8,
     "metadata": {},
     "output_type": "execute_result"
    }
   ],
   "source": [
    "df.describe()"
   ]
  },
  {
   "cell_type": "code",
   "execution_count": 10,
   "id": "4916fc34",
   "metadata": {},
   "outputs": [
    {
     "data": {
      "text/plain": [
       "Index(['STATE', 'Sugar_yield_acres', 'Crop_Year', 'Average_Temp',\n",
       "       'Average_Precip'],\n",
       "      dtype='object')"
      ]
     },
     "execution_count": 10,
     "metadata": {},
     "output_type": "execute_result"
    }
   ],
   "source": [
    "df.columns"
   ]
  },
  {
   "cell_type": "code",
   "execution_count": null,
   "id": "f9976da3",
   "metadata": {},
   "outputs": [],
   "source": []
  }
 ],
 "metadata": {
  "kernelspec": {
   "display_name": "Python 3 (ipykernel)",
   "language": "python",
   "name": "python3"
  },
  "language_info": {
   "codemirror_mode": {
    "name": "ipython",
    "version": 3
   },
   "file_extension": ".py",
   "mimetype": "text/x-python",
   "name": "python",
   "nbconvert_exporter": "python",
   "pygments_lexer": "ipython3",
   "version": "3.11.4"
  }
 },
 "nbformat": 4,
 "nbformat_minor": 5
}
