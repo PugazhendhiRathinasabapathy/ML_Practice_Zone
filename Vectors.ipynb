{
 "cells": [
  {
   "cell_type": "code",
   "execution_count": 2,
   "id": "eaa45210",
   "metadata": {},
   "outputs": [],
   "source": [
    "import numpy as np"
   ]
  },
  {
   "cell_type": "code",
   "execution_count": 3,
   "id": "fb187c64",
   "metadata": {},
   "outputs": [],
   "source": [
    "a = np.array([1,3,4,5,23])\n",
    "b = np.array([3,2,33,5,2])\n",
    "c = np.array([5,6,7,5,6,12])"
   ]
  },
  {
   "cell_type": "code",
   "execution_count": 4,
   "id": "dfc99543",
   "metadata": {},
   "outputs": [
    {
     "data": {
      "text/plain": [
       "array([ 4,  5, 37, 10, 25])"
      ]
     },
     "execution_count": 4,
     "metadata": {},
     "output_type": "execute_result"
    }
   ],
   "source": [
    "a+b"
   ]
  },
  {
   "cell_type": "code",
   "execution_count": 5,
   "id": "2204ccab",
   "metadata": {},
   "outputs": [
    {
     "ename": "ValueError",
     "evalue": "operands could not be broadcast together with shapes (5,) (6,) ",
     "output_type": "error",
     "traceback": [
      "\u001b[0;31m---------------------------------------------------------------------------\u001b[0m",
      "\u001b[0;31mValueError\u001b[0m                                Traceback (most recent call last)",
      "Cell \u001b[0;32mIn[5], line 1\u001b[0m\n\u001b[0;32m----> 1\u001b[0m a\u001b[38;5;241m-\u001b[39mc\n",
      "\u001b[0;31mValueError\u001b[0m: operands could not be broadcast together with shapes (5,) (6,) "
     ]
    }
   ],
   "source": [
    "a-c #This is because the both the arrays must be of same shape."
   ]
  },
  {
   "cell_type": "code",
   "execution_count": 6,
   "id": "9600f7df",
   "metadata": {},
   "outputs": [
    {
     "data": {
      "text/plain": [
       "array([  3,   6, 132,  25,  46])"
      ]
     },
     "execution_count": 6,
     "metadata": {},
     "output_type": "execute_result"
    }
   ],
   "source": [
    "b*a"
   ]
  },
  {
   "cell_type": "code",
   "execution_count": 7,
   "id": "45bf9b63",
   "metadata": {},
   "outputs": [
    {
     "data": {
      "text/plain": [
       "array([ 0.33333333,  1.5       ,  0.12121212,  1.        , 11.5       ])"
      ]
     },
     "execution_count": 7,
     "metadata": {},
     "output_type": "execute_result"
    }
   ],
   "source": [
    "a/b"
   ]
  },
  {
   "cell_type": "code",
   "execution_count": 8,
   "id": "0c960820",
   "metadata": {},
   "outputs": [
    {
     "name": "stdout",
     "output_type": "stream",
     "text": [
      "[12, 45, 32, 55, 11]\n"
     ]
    }
   ],
   "source": [
    "scalarValue = 2\n",
    "normalList = [12,45,32,55,11]\n",
    "print(normalList)"
   ]
  },
  {
   "cell_type": "code",
   "execution_count": 9,
   "id": "264f4234",
   "metadata": {},
   "outputs": [
    {
     "data": {
      "text/plain": [
       "[12, 45, 32, 55, 11, 12, 45, 32, 55, 11]"
      ]
     },
     "execution_count": 9,
     "metadata": {},
     "output_type": "execute_result"
    }
   ],
   "source": [
    "scalarValue*normalList\n",
    "# If vector is declared as normal array, then instead of scalar value multiplied by each element of array,\n",
    "# It multiples the list size and duplicates the value by scalar value times(In this case its 2 times is duplicated)\n",
    "# Hence we go to numpy arrays."
   ]
  },
  {
   "cell_type": "code",
   "execution_count": 10,
   "id": "9ffdd564",
   "metadata": {},
   "outputs": [
    {
     "name": "stdout",
     "output_type": "stream",
     "text": [
      "[12 45 32 55 11]\n"
     ]
    }
   ],
   "source": [
    "list_into_np_array = np.array(normalList)\n",
    "print(list_into_np_array)"
   ]
  },
  {
   "cell_type": "code",
   "execution_count": 11,
   "id": "a8788c6f",
   "metadata": {},
   "outputs": [
    {
     "data": {
      "text/plain": [
       "array([ 24,  90,  64, 110,  22])"
      ]
     },
     "execution_count": 11,
     "metadata": {},
     "output_type": "execute_result"
    }
   ],
   "source": [
    "scalarValue*list_into_np_array"
   ]
  },
  {
   "cell_type": "code",
   "execution_count": 12,
   "id": "fdad6ed0",
   "metadata": {},
   "outputs": [
    {
     "ename": "ValueError",
     "evalue": "setting an array element with a sequence. The requested array has an inhomogeneous shape after 1 dimensions. The detected shape was (3,) + inhomogeneous part.",
     "output_type": "error",
     "traceback": [
      "\u001b[0;31m---------------------------------------------------------------------------\u001b[0m",
      "\u001b[0;31mValueError\u001b[0m                                Traceback (most recent call last)",
      "Cell \u001b[0;32mIn[12], line 1\u001b[0m\n\u001b[0;32m----> 1\u001b[0m columnVector \u001b[38;5;241m=\u001b[39m np\u001b[38;5;241m.\u001b[39marray([ [\u001b[38;5;241m1\u001b[39m,\u001b[38;5;241m2\u001b[39m],[\u001b[38;5;241m34\u001b[39m],[\u001b[38;5;241m5\u001b[39m]]) \u001b[38;5;66;03m#Can give only one value inside the square brackets, else its matrix.\u001b[39;00m\n\u001b[1;32m      2\u001b[0m \u001b[38;5;28mprint\u001b[39m(columnVector)\n",
      "\u001b[0;31mValueError\u001b[0m: setting an array element with a sequence. The requested array has an inhomogeneous shape after 1 dimensions. The detected shape was (3,) + inhomogeneous part."
     ]
    }
   ],
   "source": [
    "columnVector = np.array([ [1,2],[34],[5]]) #Can give only one value inside the square brackets, else its matrix.\n",
    "print(columnVector)"
   ]
  },
  {
   "cell_type": "code",
   "execution_count": 13,
   "id": "efb372c6",
   "metadata": {},
   "outputs": [
    {
     "data": {
      "text/plain": [
       "212"
      ]
     },
     "execution_count": 13,
     "metadata": {},
     "output_type": "execute_result"
    }
   ],
   "source": [
    "# Demo of Dot product in vector.\n",
    "np.dot(a,b)"
   ]
  },
  {
   "cell_type": "code",
   "execution_count": 14,
   "id": "7cb6df58",
   "metadata": {},
   "outputs": [
    {
     "data": {
      "text/plain": [
       "264"
      ]
     },
     "execution_count": 14,
     "metadata": {},
     "output_type": "execute_result"
    }
   ],
   "source": [
    "# Distributive property of Dot product\n",
    "# a.(b+c) = a.b + a.c \n",
    "\n",
    "#LHS \n",
    "x = np.array([1,2,3,4,8])\n",
    "y = np.array([5,8,7,9,6])\n",
    "z = np.array([2,4,8,6,10])\n",
    "\n",
    "np.dot(x,y+z)"
   ]
  },
  {
   "cell_type": "code",
   "execution_count": 15,
   "id": "c13db7ad",
   "metadata": {},
   "outputs": [
    {
     "name": "stdout",
     "output_type": "stream",
     "text": [
      "264\n"
     ]
    }
   ],
   "source": [
    "#RHS\n",
    "print(np.dot(x,y)+np.dot(x,z))"
   ]
  },
  {
   "cell_type": "code",
   "execution_count": 16,
   "id": "d71770c8",
   "metadata": {},
   "outputs": [
    {
     "data": {
      "text/plain": [
       "14.832396974191326"
      ]
     },
     "execution_count": 16,
     "metadata": {},
     "output_type": "execute_result"
    }
   ],
   "source": [
    "#To find Magnitude\n",
    "\n",
    "from numpy import linalg as lng\n",
    "\n",
    "lng.norm(z)"
   ]
  },
  {
   "cell_type": "code",
   "execution_count": 17,
   "id": "b63d84fb",
   "metadata": {},
   "outputs": [
    {
     "name": "stdout",
     "output_type": "stream",
     "text": [
      "[2.47058824 3.95294118 3.45882353 4.44705882 2.96470588]\n"
     ]
    }
   ],
   "source": [
    "# Vector Projection of x onto y is given by\n",
    "\n",
    "vectorProjection = (np.dot(x,y)/np.dot(y,y))*y\n",
    "print(vectorProjection)"
   ]
  },
  {
   "cell_type": "code",
   "execution_count": 25,
   "id": "8f94babe",
   "metadata": {},
   "outputs": [
    {
     "name": "stdout",
     "output_type": "stream",
     "text": [
      "The x and y values are: [1. 2.]\n",
      "The value of B is :  [ 5. 11.]\n"
     ]
    }
   ],
   "source": [
    "# To Solve Linear Equation using Inversion method\n",
    "\n",
    "A = np.array([[1,2],[3,4]]) # A being the linear equations.\n",
    "B = np.array([5,11]) # B being the constant matrix.\n",
    "\n",
    "# A inverse . B = [x,y]\n",
    "\n",
    "Ainverse = np.linalg.inv(A)\n",
    "\n",
    "x = np.dot(Ainverse,B)\n",
    "print(\"The x and y values are: \"+str(x))\n",
    "\n",
    "#Checking the values are correct by A.x = B\n",
    "\n",
    "print(\"The value of B is : \",str(np.dot(A,x)))"
   ]
  },
  {
   "cell_type": "code",
   "execution_count": 26,
   "id": "86dcae2d",
   "metadata": {},
   "outputs": [
    {
     "data": {
      "text/plain": [
       "-2.0000000000000004"
      ]
     },
     "execution_count": 26,
     "metadata": {},
     "output_type": "execute_result"
    }
   ],
   "source": [
    "#To find the determinant of A \n",
    "\n",
    "det = np.linalg.det(A)\n",
    "det"
   ]
  },
  {
   "cell_type": "code",
   "execution_count": null,
   "id": "6cca27ea",
   "metadata": {},
   "outputs": [],
   "source": []
  }
 ],
 "metadata": {
  "kernelspec": {
   "display_name": "Python 3 (ipykernel)",
   "language": "python",
   "name": "python3"
  },
  "language_info": {
   "codemirror_mode": {
    "name": "ipython",
    "version": 3
   },
   "file_extension": ".py",
   "mimetype": "text/x-python",
   "name": "python",
   "nbconvert_exporter": "python",
   "pygments_lexer": "ipython3",
   "version": "3.11.4"
  }
 },
 "nbformat": 4,
 "nbformat_minor": 5
}
